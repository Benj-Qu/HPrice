{
 "cells": [
  {
   "attachments": {},
   "cell_type": "markdown",
   "metadata": {},
   "source": [
    "# Project Part II: Predicting Housing Prices - Build Your Own Model (50 pts)\n",
    "\n",
    " "
   ]
  },
  {
   "attachments": {},
   "cell_type": "markdown",
   "metadata": {},
   "source": [
    "Now it's your turn to train a better model on predicting house price! Please only use models in sklearn. Don't introduce other models by uploading extra libraries to the server.\n",
    "\n",
    "### Grading Scheme\n",
    "\n",
    "Your grade for the project will be based on your test RMSE and your readme.md. The breakdown are as follows:\n",
    "\n",
    "1. Readme.md + Completeness of your ipynb(10 pts)\n",
    "\n",
    "2. \n",
    "Points | 40 | 30 | 25 | 20\n",
    "--- | --- | --- | --- | ---\n",
    "Test RMSE | Top 20% | (20%, 40%] | (40%, 70%] | Last 30%\n"
   ]
  },
  {
   "cell_type": "code",
   "execution_count": 71,
   "id": "5a0f9898",
   "metadata": {},
   "outputs": [
    {
     "name": "stdout",
     "output_type": "stream",
     "text": [
      "The autoreload extension is already loaded. To reload it, use:\n",
      "  %reload_ext autoreload\n"
     ]
    }
   ],
   "source": [
    "%load_ext autoreload\n",
    "%autoreload 2"
   ]
  },
  {
   "cell_type": "code",
   "execution_count": 72,
   "id": "470dba33",
   "metadata": {},
   "outputs": [],
   "source": [
    "from proj import *"
   ]
  },
  {
   "cell_type": "code",
   "execution_count": 73,
   "id": "7ffe560d",
   "metadata": {},
   "outputs": [],
   "source": [
    "# Some Imports You Might Need\n",
    "import numpy as np\n",
    "import pandas as pd\n",
    "from pandas.api.types import CategoricalDtype\n",
    "\n",
    "%matplotlib inline\n",
    "import matplotlib.pyplot as plt\n",
    "import seaborn as sns\n",
    "from joblib import dump, load\n",
    "\n",
    "import warnings\n",
    "warnings.filterwarnings(\"ignore\")\n",
    "\n",
    "import zipfile\n",
    "import os\n",
    "\n",
    "from sklearn.preprocessing import OneHotEncoder\n",
    "from sklearn import linear_model as lm\n",
    "\n",
    "# Plot settings\n",
    "plt.rcParams['figure.figsize'] = (12, 9)\n",
    "plt.rcParams['font.size'] = 12\n",
    "\n",
    "# Extract Dataset\n",
    "with zipfile.ZipFile('cook_county_contest_data.zip') as item:\n",
    "    item.extractall()\n",
    "\n",
    "### Note: we filtered the data in cook_county_contest_data, \n",
    "####so please use this dataset instead of the old one."
   ]
  },
  {
   "attachments": {},
   "cell_type": "markdown",
   "id": "34366744",
   "metadata": {},
   "source": [
    "## Step 1. `create_pipeline` function.\n",
    "\n",
    "See proj.py"
   ]
  },
  {
   "attachments": {},
   "cell_type": "markdown",
   "id": "e08c66ae",
   "metadata": {},
   "source": [
    "## Step 2. Initiate a pipeline\n",
    "\n",
    "Create a pipeline instance:\n",
    "pipeline = create_pipeline()\n"
   ]
  },
  {
   "cell_type": "code",
   "execution_count": 74,
   "id": "6cb3201c",
   "metadata": {},
   "outputs": [],
   "source": [
    "pipeline = create_pipeline()"
   ]
  },
  {
   "attachments": {},
   "cell_type": "markdown",
   "id": "f38c523c",
   "metadata": {},
   "source": [
    "## Step 3. Train your model\n",
    "\n",
    "Run the following cell to import the new set of training data to fit your model on. **You can use any regression model, the following is just an example** \n",
    "\n",
    "Your model will predict the **original sale price**, If you take log in the middle, please **transfer back** to the normal vlaues."
   ]
  },
  {
   "cell_type": "code",
   "execution_count": 75,
   "id": "b1c1cbe5",
   "metadata": {},
   "outputs": [],
   "source": [
    "train_data = pd.read_csv('cook_county_contest_train.csv')"
   ]
  },
  {
   "cell_type": "code",
   "execution_count": 76,
   "id": "7fd41324",
   "metadata": {},
   "outputs": [],
   "source": [
    "# # Resample the data\n",
    "# from sklearn.utils import resample\n",
    "# train_data_resample = pd.DataFrame()\n",
    "# for i in range(9):\n",
    "#     train_data_inrange = train_data[(train_data['Building Square Feet']>=i*1000) & (train_data['Building Square Feet'] < (i+1)*1000)]\n",
    "#     df_temp = resample(train_data_inrange,\n",
    "#         replace=True,\n",
    "#         n_samples=(i+1)*len(train_data_inrange),\n",
    "#         random_state=4710)\n",
    "#     train_data_resample = pd.concat([train_data_resample, df_temp])\n",
    "# train_data = train_data_resample\n",
    "# train_data.shape"
   ]
  },
  {
   "cell_type": "code",
   "execution_count": 77,
   "id": "0231d296",
   "metadata": {},
   "outputs": [
    {
     "data": {
      "text/plain": [
       "0         2568.0\n",
       "1         1040.0\n",
       "2         1188.0\n",
       "3         2252.0\n",
       "4          787.0\n",
       "           ...  \n",
       "138212     882.0\n",
       "138213    1004.0\n",
       "138214    1085.0\n",
       "138215    1494.0\n",
       "138216     864.0\n",
       "Name: Building Square Feet, Length: 138217, dtype: float64"
      ]
     },
     "execution_count": 77,
     "metadata": {},
     "output_type": "execute_result"
    }
   ],
   "source": [
    "train_data['Building Square Feet']"
   ]
  },
  {
   "cell_type": "code",
   "execution_count": 78,
   "id": "39a76f53",
   "metadata": {},
   "outputs": [],
   "source": [
    "y_train = train_data['Sale Price']\n",
    "train_data = train_data.drop(columns=['Sale Price'])\n",
    "y_train = y_train / train_data['Building Square Feet']"
   ]
  },
  {
   "cell_type": "code",
   "execution_count": 79,
   "id": "f0964b28",
   "metadata": {},
   "outputs": [],
   "source": [
    "# for parameter in pipeline.get_params():\n",
    "#     print(parameter)"
   ]
  },
  {
   "cell_type": "code",
   "execution_count": 80,
   "id": "3a6c7584",
   "metadata": {},
   "outputs": [],
   "source": [
    "# from sklearn.model_selection import KFold\n",
    "# from sklearn.model_selection import cross_val_score\n",
    "# from sklearn.model_selection import RandomizedSearchCV\n",
    "\n",
    "# # Define hyperparameter distributions to search over\n",
    "# param_distributions = {\n",
    "#     'lin-reg__max_depth': [5, 10, 20, 50, 100, 200, 500, 1000],\n",
    "#     'lin-reg__max_features': [1.0, 0.5, 0.2, 0.1, 'sqrt', 'log2'],\n",
    "#     'lin-reg__max_leaf_nodes': [5, 10, 20, 50, 100, 200, 500, 1000],\n",
    "#     'lin-reg__n_estimators': [20, 50, 100, 200, 500, 1000],\n",
    "#     'lin-reg__ccp_alpha': [0.0, 0.001, 0.002, 0.005, 0.01, 0.02, 0.05, 0.1, 0.2, 0.5],\n",
    "#     'lin-reg__min_impurity_decrease': [0.0, 0.001, 0.002, 0.005, 0.01, 0.02, 0.05, 0.1],\n",
    "#     'lin-reg__random_state': [22, 42, 4710],\n",
    "# }\n",
    "\n",
    "# # Perform randomized search\n",
    "# random_search = RandomizedSearchCV(\n",
    "#     pipeline,\n",
    "#     param_distributions = param_distributions,\n",
    "#     n_iter=10,\n",
    "#     scoring='neg_mean_squared_error',\n",
    "#     cv=5,\n",
    "#     n_jobs=-1,\n",
    "#     verbose=1,\n",
    "#     random_state=4710\n",
    "# )\n",
    "\n",
    "# # Fit the model on training data\n",
    "# random_search.fit(train_data, y_train)\n",
    "\n",
    "# # Evaluate the best model on test data\n",
    "# print(\"Best score:\", random_search.best_score_)\n",
    "# print(\"Best params:\", random_search.best_params_)"
   ]
  },
  {
   "cell_type": "code",
   "execution_count": 81,
   "id": "7d321158",
   "metadata": {},
   "outputs": [
    {
     "data": {
      "text/html": [
       "<style>#sk-container-id-1 {color: black;background-color: white;}#sk-container-id-1 pre{padding: 0;}#sk-container-id-1 div.sk-toggleable {background-color: white;}#sk-container-id-1 label.sk-toggleable__label {cursor: pointer;display: block;width: 100%;margin-bottom: 0;padding: 0.3em;box-sizing: border-box;text-align: center;}#sk-container-id-1 label.sk-toggleable__label-arrow:before {content: \"▸\";float: left;margin-right: 0.25em;color: #696969;}#sk-container-id-1 label.sk-toggleable__label-arrow:hover:before {color: black;}#sk-container-id-1 div.sk-estimator:hover label.sk-toggleable__label-arrow:before {color: black;}#sk-container-id-1 div.sk-toggleable__content {max-height: 0;max-width: 0;overflow: hidden;text-align: left;background-color: #f0f8ff;}#sk-container-id-1 div.sk-toggleable__content pre {margin: 0.2em;color: black;border-radius: 0.25em;background-color: #f0f8ff;}#sk-container-id-1 input.sk-toggleable__control:checked~div.sk-toggleable__content {max-height: 200px;max-width: 100%;overflow: auto;}#sk-container-id-1 input.sk-toggleable__control:checked~label.sk-toggleable__label-arrow:before {content: \"▾\";}#sk-container-id-1 div.sk-estimator input.sk-toggleable__control:checked~label.sk-toggleable__label {background-color: #d4ebff;}#sk-container-id-1 div.sk-label input.sk-toggleable__control:checked~label.sk-toggleable__label {background-color: #d4ebff;}#sk-container-id-1 input.sk-hidden--visually {border: 0;clip: rect(1px 1px 1px 1px);clip: rect(1px, 1px, 1px, 1px);height: 1px;margin: -1px;overflow: hidden;padding: 0;position: absolute;width: 1px;}#sk-container-id-1 div.sk-estimator {font-family: monospace;background-color: #f0f8ff;border: 1px dotted black;border-radius: 0.25em;box-sizing: border-box;margin-bottom: 0.5em;}#sk-container-id-1 div.sk-estimator:hover {background-color: #d4ebff;}#sk-container-id-1 div.sk-parallel-item::after {content: \"\";width: 100%;border-bottom: 1px solid gray;flex-grow: 1;}#sk-container-id-1 div.sk-label:hover label.sk-toggleable__label {background-color: #d4ebff;}#sk-container-id-1 div.sk-serial::before {content: \"\";position: absolute;border-left: 1px solid gray;box-sizing: border-box;top: 0;bottom: 0;left: 50%;z-index: 0;}#sk-container-id-1 div.sk-serial {display: flex;flex-direction: column;align-items: center;background-color: white;padding-right: 0.2em;padding-left: 0.2em;position: relative;}#sk-container-id-1 div.sk-item {position: relative;z-index: 1;}#sk-container-id-1 div.sk-parallel {display: flex;align-items: stretch;justify-content: center;background-color: white;position: relative;}#sk-container-id-1 div.sk-item::before, #sk-container-id-1 div.sk-parallel-item::before {content: \"\";position: absolute;border-left: 1px solid gray;box-sizing: border-box;top: 0;bottom: 0;left: 50%;z-index: -1;}#sk-container-id-1 div.sk-parallel-item {display: flex;flex-direction: column;z-index: 1;position: relative;background-color: white;}#sk-container-id-1 div.sk-parallel-item:first-child::after {align-self: flex-end;width: 50%;}#sk-container-id-1 div.sk-parallel-item:last-child::after {align-self: flex-start;width: 50%;}#sk-container-id-1 div.sk-parallel-item:only-child::after {width: 0;}#sk-container-id-1 div.sk-dashed-wrapped {border: 1px dashed gray;margin: 0 0.4em 0.5em 0.4em;box-sizing: border-box;padding-bottom: 0.4em;background-color: white;}#sk-container-id-1 div.sk-label label {font-family: monospace;font-weight: bold;display: inline-block;line-height: 1.2em;}#sk-container-id-1 div.sk-label-container {text-align: center;}#sk-container-id-1 div.sk-container {/* jupyter's `normalize.less` sets `[hidden] { display: none; }` but bootstrap.min.css set `[hidden] { display: none !important; }` so we also need the `!important` here to be able to override the default hidden behavior on the sphinx rendered scikit-learn.org. See: https://github.com/scikit-learn/scikit-learn/issues/21755 */display: inline-block !important;position: relative;}#sk-container-id-1 div.sk-text-repr-fallback {display: none;}</style><div id=\"sk-container-id-1\" class=\"sk-top-container\"><div class=\"sk-text-repr-fallback\"><pre>Pipeline(steps=[(&#x27;extract_expense_neighbor&#x27;,\n",
       "                 FunctionTransformer(func=&lt;function find_expensive_neighborhoods at 0x7fbfb82d25c0&gt;)),\n",
       "                (&#x27;extract_expense_town&#x27;,\n",
       "                 FunctionTransformer(func=&lt;function find_expensive_towns at 0x7fbfb82d2660&gt;)),\n",
       "                (&#x27;extract_description&#x27;,\n",
       "                 FunctionTransformer(func=&lt;function extract_description at 0x7fbfb82d2520&gt;)),\n",
       "                (&#x27;category_encoding&#x27;,\n",
       "                 FunctionT...\n",
       "                                                   &#x27;Basement Finish&#x27;,\n",
       "                                                   &#x27;Central Heating&#x27;,\n",
       "                                                   &#x27;Other Heating&#x27;,\n",
       "                                                   &#x27;Central Air&#x27;, &#x27;Attic Type&#x27;,\n",
       "                                                   &#x27;Attic Finish&#x27;,\n",
       "                                                   &#x27;Design Plan&#x27;,\n",
       "                                                   &#x27;Cathedral Ceiling&#x27;,\n",
       "                                                   &#x27;Construction Quality&#x27;,\n",
       "                                                   &#x27;Garage 1 Material&#x27;,\n",
       "                                                   &#x27;Garage 1 Attachment&#x27;,\n",
       "                                                   &#x27;Garage 2 Material&#x27;,\n",
       "                                                   &#x27;Garage 2 Attachment&#x27;,\n",
       "                                                   &#x27;Porch&#x27;, &#x27;Repair Condition&#x27;,\n",
       "                                                   &#x27;Multi Code&#x27;, &#x27;Use&#x27;,\n",
       "                                                   &#x27;Property Class&#x27;,\n",
       "                                                   &#x27;Story&#x27;])])),\n",
       "                (&#x27;lin-reg&#x27;,\n",
       "                 RandomForestRegressor(max_depth=4, n_estimators=500))])</pre><b>In a Jupyter environment, please rerun this cell to show the HTML representation or trust the notebook. <br />On GitHub, the HTML representation is unable to render, please try loading this page with nbviewer.org.</b></div><div class=\"sk-container\" hidden><div class=\"sk-item sk-dashed-wrapped\"><div class=\"sk-label-container\"><div class=\"sk-label sk-toggleable\"><input class=\"sk-toggleable__control sk-hidden--visually\" id=\"sk-estimator-id-1\" type=\"checkbox\" ><label for=\"sk-estimator-id-1\" class=\"sk-toggleable__label sk-toggleable__label-arrow\">Pipeline</label><div class=\"sk-toggleable__content\"><pre>Pipeline(steps=[(&#x27;extract_expense_neighbor&#x27;,\n",
       "                 FunctionTransformer(func=&lt;function find_expensive_neighborhoods at 0x7fbfb82d25c0&gt;)),\n",
       "                (&#x27;extract_expense_town&#x27;,\n",
       "                 FunctionTransformer(func=&lt;function find_expensive_towns at 0x7fbfb82d2660&gt;)),\n",
       "                (&#x27;extract_description&#x27;,\n",
       "                 FunctionTransformer(func=&lt;function extract_description at 0x7fbfb82d2520&gt;)),\n",
       "                (&#x27;category_encoding&#x27;,\n",
       "                 FunctionT...\n",
       "                                                   &#x27;Basement Finish&#x27;,\n",
       "                                                   &#x27;Central Heating&#x27;,\n",
       "                                                   &#x27;Other Heating&#x27;,\n",
       "                                                   &#x27;Central Air&#x27;, &#x27;Attic Type&#x27;,\n",
       "                                                   &#x27;Attic Finish&#x27;,\n",
       "                                                   &#x27;Design Plan&#x27;,\n",
       "                                                   &#x27;Cathedral Ceiling&#x27;,\n",
       "                                                   &#x27;Construction Quality&#x27;,\n",
       "                                                   &#x27;Garage 1 Material&#x27;,\n",
       "                                                   &#x27;Garage 1 Attachment&#x27;,\n",
       "                                                   &#x27;Garage 2 Material&#x27;,\n",
       "                                                   &#x27;Garage 2 Attachment&#x27;,\n",
       "                                                   &#x27;Porch&#x27;, &#x27;Repair Condition&#x27;,\n",
       "                                                   &#x27;Multi Code&#x27;, &#x27;Use&#x27;,\n",
       "                                                   &#x27;Property Class&#x27;,\n",
       "                                                   &#x27;Story&#x27;])])),\n",
       "                (&#x27;lin-reg&#x27;,\n",
       "                 RandomForestRegressor(max_depth=4, n_estimators=500))])</pre></div></div></div><div class=\"sk-serial\"><div class=\"sk-item\"><div class=\"sk-estimator sk-toggleable\"><input class=\"sk-toggleable__control sk-hidden--visually\" id=\"sk-estimator-id-2\" type=\"checkbox\" ><label for=\"sk-estimator-id-2\" class=\"sk-toggleable__label sk-toggleable__label-arrow\">FunctionTransformer</label><div class=\"sk-toggleable__content\"><pre>FunctionTransformer(func=&lt;function find_expensive_neighborhoods at 0x7fbfb82d25c0&gt;)</pre></div></div></div><div class=\"sk-item\"><div class=\"sk-estimator sk-toggleable\"><input class=\"sk-toggleable__control sk-hidden--visually\" id=\"sk-estimator-id-3\" type=\"checkbox\" ><label for=\"sk-estimator-id-3\" class=\"sk-toggleable__label sk-toggleable__label-arrow\">FunctionTransformer</label><div class=\"sk-toggleable__content\"><pre>FunctionTransformer(func=&lt;function find_expensive_towns at 0x7fbfb82d2660&gt;)</pre></div></div></div><div class=\"sk-item\"><div class=\"sk-estimator sk-toggleable\"><input class=\"sk-toggleable__control sk-hidden--visually\" id=\"sk-estimator-id-4\" type=\"checkbox\" ><label for=\"sk-estimator-id-4\" class=\"sk-toggleable__label sk-toggleable__label-arrow\">FunctionTransformer</label><div class=\"sk-toggleable__content\"><pre>FunctionTransformer(func=&lt;function extract_description at 0x7fbfb82d2520&gt;)</pre></div></div></div><div class=\"sk-item\"><div class=\"sk-estimator sk-toggleable\"><input class=\"sk-toggleable__control sk-hidden--visually\" id=\"sk-estimator-id-5\" type=\"checkbox\" ><label for=\"sk-estimator-id-5\" class=\"sk-toggleable__label sk-toggleable__label-arrow\">FunctionTransformer</label><div class=\"sk-toggleable__content\"><pre>FunctionTransformer(func=&lt;function substitute_categorical_variables at 0x7fbfb82d2700&gt;)</pre></div></div></div><div class=\"sk-item\"><div class=\"sk-estimator sk-toggleable\"><input class=\"sk-toggleable__control sk-hidden--visually\" id=\"sk-estimator-id-6\" type=\"checkbox\" ><label for=\"sk-estimator-id-6\" class=\"sk-toggleable__label sk-toggleable__label-arrow\">FunctionTransformer</label><div class=\"sk-toggleable__content\"><pre>FunctionTransformer(func=&lt;function drop_columns at 0x7fbfb82d2480&gt;)</pre></div></div></div><div class=\"sk-item\"><div class=\"sk-estimator sk-toggleable\"><input class=\"sk-toggleable__control sk-hidden--visually\" id=\"sk-estimator-id-7\" type=\"checkbox\" ><label for=\"sk-estimator-id-7\" class=\"sk-toggleable__label sk-toggleable__label-arrow\">FunctionTransformer</label><div class=\"sk-toggleable__content\"><pre>FunctionTransformer(func=&lt;function move_feet_front at 0x7fbfb8282c00&gt;)</pre></div></div></div><div class=\"sk-item sk-dashed-wrapped\"><div class=\"sk-label-container\"><div class=\"sk-label sk-toggleable\"><input class=\"sk-toggleable__control sk-hidden--visually\" id=\"sk-estimator-id-8\" type=\"checkbox\" ><label for=\"sk-estimator-id-8\" class=\"sk-toggleable__label sk-toggleable__label-arrow\">preprocessor: ColumnTransformer</label><div class=\"sk-toggleable__content\"><pre>ColumnTransformer(remainder=&#x27;passthrough&#x27;,\n",
       "                  transformers=[(&#x27;categorical_cols&#x27;,\n",
       "                                 OneHotEncoder(drop=&#x27;first&#x27;,\n",
       "                                               handle_unknown=&#x27;ignore&#x27;),\n",
       "                                 [&#x27;Modeling Group&#x27;, &#x27;Apartments&#x27;,\n",
       "                                  &#x27;Wall Material&#x27;, &#x27;Roof Material&#x27;, &#x27;Basement&#x27;,\n",
       "                                  &#x27;Basement Finish&#x27;, &#x27;Central Heating&#x27;,\n",
       "                                  &#x27;Other Heating&#x27;, &#x27;Central Air&#x27;, &#x27;Attic Type&#x27;,\n",
       "                                  &#x27;Attic Finish&#x27;, &#x27;Design Plan&#x27;,\n",
       "                                  &#x27;Cathedral Ceiling&#x27;, &#x27;Construction Quality&#x27;,\n",
       "                                  &#x27;Garage 1 Material&#x27;, &#x27;Garage 1 Attachment&#x27;,\n",
       "                                  &#x27;Garage 2 Material&#x27;, &#x27;Garage 2 Attachment&#x27;,\n",
       "                                  &#x27;Porch&#x27;, &#x27;Repair Condition&#x27;, &#x27;Multi Code&#x27;,\n",
       "                                  &#x27;Use&#x27;, &#x27;Property Class&#x27;, &#x27;Story&#x27;])])</pre></div></div></div><div class=\"sk-parallel\"><div class=\"sk-parallel-item\"><div class=\"sk-item\"><div class=\"sk-label-container\"><div class=\"sk-label sk-toggleable\"><input class=\"sk-toggleable__control sk-hidden--visually\" id=\"sk-estimator-id-9\" type=\"checkbox\" ><label for=\"sk-estimator-id-9\" class=\"sk-toggleable__label sk-toggleable__label-arrow\">categorical_cols</label><div class=\"sk-toggleable__content\"><pre>[&#x27;Modeling Group&#x27;, &#x27;Apartments&#x27;, &#x27;Wall Material&#x27;, &#x27;Roof Material&#x27;, &#x27;Basement&#x27;, &#x27;Basement Finish&#x27;, &#x27;Central Heating&#x27;, &#x27;Other Heating&#x27;, &#x27;Central Air&#x27;, &#x27;Attic Type&#x27;, &#x27;Attic Finish&#x27;, &#x27;Design Plan&#x27;, &#x27;Cathedral Ceiling&#x27;, &#x27;Construction Quality&#x27;, &#x27;Garage 1 Material&#x27;, &#x27;Garage 1 Attachment&#x27;, &#x27;Garage 2 Material&#x27;, &#x27;Garage 2 Attachment&#x27;, &#x27;Porch&#x27;, &#x27;Repair Condition&#x27;, &#x27;Multi Code&#x27;, &#x27;Use&#x27;, &#x27;Property Class&#x27;, &#x27;Story&#x27;]</pre></div></div></div><div class=\"sk-serial\"><div class=\"sk-item\"><div class=\"sk-estimator sk-toggleable\"><input class=\"sk-toggleable__control sk-hidden--visually\" id=\"sk-estimator-id-10\" type=\"checkbox\" ><label for=\"sk-estimator-id-10\" class=\"sk-toggleable__label sk-toggleable__label-arrow\">OneHotEncoder</label><div class=\"sk-toggleable__content\"><pre>OneHotEncoder(drop=&#x27;first&#x27;, handle_unknown=&#x27;ignore&#x27;)</pre></div></div></div></div></div></div><div class=\"sk-parallel-item\"><div class=\"sk-item\"><div class=\"sk-label-container\"><div class=\"sk-label sk-toggleable\"><input class=\"sk-toggleable__control sk-hidden--visually\" id=\"sk-estimator-id-11\" type=\"checkbox\" ><label for=\"sk-estimator-id-11\" class=\"sk-toggleable__label sk-toggleable__label-arrow\">remainder</label><div class=\"sk-toggleable__content\"><pre></pre></div></div></div><div class=\"sk-serial\"><div class=\"sk-item\"><div class=\"sk-estimator sk-toggleable\"><input class=\"sk-toggleable__control sk-hidden--visually\" id=\"sk-estimator-id-12\" type=\"checkbox\" ><label for=\"sk-estimator-id-12\" class=\"sk-toggleable__label sk-toggleable__label-arrow\">passthrough</label><div class=\"sk-toggleable__content\"><pre>passthrough</pre></div></div></div></div></div></div></div></div><div class=\"sk-item\"><div class=\"sk-estimator sk-toggleable\"><input class=\"sk-toggleable__control sk-hidden--visually\" id=\"sk-estimator-id-13\" type=\"checkbox\" ><label for=\"sk-estimator-id-13\" class=\"sk-toggleable__label sk-toggleable__label-arrow\">RandomForestRegressor</label><div class=\"sk-toggleable__content\"><pre>RandomForestRegressor(max_depth=4, n_estimators=500)</pre></div></div></div></div></div></div></div>"
      ],
      "text/plain": [
       "Pipeline(steps=[('extract_expense_neighbor',\n",
       "                 FunctionTransformer(func=<function find_expensive_neighborhoods at 0x7fbfb82d25c0>)),\n",
       "                ('extract_expense_town',\n",
       "                 FunctionTransformer(func=<function find_expensive_towns at 0x7fbfb82d2660>)),\n",
       "                ('extract_description',\n",
       "                 FunctionTransformer(func=<function extract_description at 0x7fbfb82d2520>)),\n",
       "                ('category_encoding',\n",
       "                 FunctionT...\n",
       "                                                   'Basement Finish',\n",
       "                                                   'Central Heating',\n",
       "                                                   'Other Heating',\n",
       "                                                   'Central Air', 'Attic Type',\n",
       "                                                   'Attic Finish',\n",
       "                                                   'Design Plan',\n",
       "                                                   'Cathedral Ceiling',\n",
       "                                                   'Construction Quality',\n",
       "                                                   'Garage 1 Material',\n",
       "                                                   'Garage 1 Attachment',\n",
       "                                                   'Garage 2 Material',\n",
       "                                                   'Garage 2 Attachment',\n",
       "                                                   'Porch', 'Repair Condition',\n",
       "                                                   'Multi Code', 'Use',\n",
       "                                                   'Property Class',\n",
       "                                                   'Story'])])),\n",
       "                ('lin-reg',\n",
       "                 RandomForestRegressor(max_depth=4, n_estimators=500))])"
      ]
     },
     "execution_count": 81,
     "metadata": {},
     "output_type": "execute_result"
    }
   ],
   "source": [
    "pipeline.set_params(**{\n",
    "    'lin-reg__max_depth': 4,\n",
    "    # 'lin-reg__max_features': 'log2',\n",
    "    # 'lin-reg__max_leaf_nodes': 1000,\n",
    "    'lin-reg__n_estimators': 500,\n",
    "    # 'lin-reg__ccp_alpha': 0.05,\n",
    "    # 'lin-reg__min_impurity_decrease': 0.01,\n",
    "    # 'lin-reg__random_state': 42,\n",
    "})"
   ]
  },
  {
   "cell_type": "code",
   "execution_count": 82,
   "id": "56bcd784",
   "metadata": {},
   "outputs": [
    {
     "data": {
      "text/plain": [
       "['519370910113-2.gz']"
      ]
     },
     "execution_count": 82,
     "metadata": {},
     "output_type": "execute_result"
    }
   ],
   "source": [
    "###You can use any model in Sklearn\n",
    "pipeline.fit(train_data, y_train)\n",
    "\n",
    "##Export your pipeline\n",
    "dump(pipeline, '519370910113-2.gz', compress=('gzip', 6))\n",
    "\n",
    "#This saves the pipeline to a compressed file\n",
    "#The compress parameter takes a tuple of the compression method and the compression level, which in this case is ( 'gzip', 6)\n",
    "# The compression level ranges from 0 to 9, with 0 being no compression \n",
    "# and 9 being the highest level of compression. \n",
    "# A higher compression level will result in a smaller file size, but will also take longer to compress and decompress."
   ]
  },
  {
   "attachments": {},
   "cell_type": "markdown",
   "id": "a5adba3b",
   "metadata": {},
   "source": [
    "## Step 4. Cross validation and push your code\n",
    "\n",
    "Do cross-validation on the train set to test the performance of your model. **Push your code to Gitea** and send your model to the server."
   ]
  },
  {
   "cell_type": "code",
   "execution_count": 83,
   "id": "f11bce79",
   "metadata": {},
   "outputs": [
    {
     "data": {
      "text/plain": [
       "(138217, 63)"
      ]
     },
     "execution_count": 83,
     "metadata": {},
     "output_type": "execute_result"
    }
   ],
   "source": [
    "train_data.shape"
   ]
  },
  {
   "cell_type": "code",
   "execution_count": 84,
   "id": "8f103d8e",
   "metadata": {},
   "outputs": [
    {
     "data": {
      "text/plain": [
       "(138217,)"
      ]
     },
     "execution_count": 84,
     "metadata": {},
     "output_type": "execute_result"
    }
   ],
   "source": [
    "y_train.shape"
   ]
  },
  {
   "cell_type": "code",
   "execution_count": 85,
   "id": "bc5cde97",
   "metadata": {},
   "outputs": [],
   "source": [
    "## You can do cross-validation here\n",
    "# from sklearn.model_selection import KFold\n",
    "# from sklearn.model_selection import cross_val_score\n",
    "# pipeline = create_pipeline()\n",
    "# cv = KFold(n_splits=3, random_state=4710, shuffle=True)\n",
    "# scores = cross_val_score(pipeline, train_data, y_train, cv=cv, scoring='neg_mean_squared_error')\n",
    "# scores = np.sqrt(np.abs(scores))\n",
    "# scores"
   ]
  }
 ],
 "metadata": {
  "kernelspec": {
   "display_name": "Python 3",
   "language": "python",
   "name": "python3"
  },
  "language_info": {
   "codemirror_mode": {
    "name": "ipython",
    "version": 3
   },
   "file_extension": ".py",
   "mimetype": "text/x-python",
   "name": "python",
   "nbconvert_exporter": "python",
   "pygments_lexer": "ipython3",
   "version": "3.11.4"
  },
  "vscode": {
   "interpreter": {
    "hash": "aee8b7b246df8f9039afb4144a1f6fd8d2ca17a180786b69acc140d282b71a49"
   }
  }
 },
 "nbformat": 4,
 "nbformat_minor": 5
}
